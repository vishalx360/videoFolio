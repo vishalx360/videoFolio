{
 "cells": [
  {
   "cell_type": "code",
   "execution_count": 6,
   "metadata": {},
   "outputs": [],
   "source": [
    "LINKEDIN_EMAIL=\"elonmusktesting@gmail.com\"\n",
    "LINKEDIN_PASSWORD=\"Albert2000\""
   ]
  },
  {
   "cell_type": "code",
   "execution_count": 7,
   "metadata": {},
   "outputs": [],
   "source": [
    "from linkedin_api import Linkedin\n"
   ]
  },
  {
   "cell_type": "code",
   "execution_count": 102,
   "metadata": {},
   "outputs": [
    {
     "name": "stdout",
     "output_type": "stream",
     "text": [
      "LinkedIn Setted Up\n"
     ]
    }
   ],
   "source": [
    "api = Linkedin(LINKEDIN_EMAIL, LINKEDIN_PASSWORD)\n",
    "print(\"LinkedIn Setted Up\")"
   ]
  },
  {
   "cell_type": "code",
   "execution_count": 103,
   "metadata": {},
   "outputs": [],
   "source": [
    "# profile = api.get_profile(\"avina-vekariya-357068175\")\n",
    "profile = api.get_profile(\"vivekshah1801\")"
   ]
  },
  {
   "cell_type": "code",
   "execution_count": 104,
   "metadata": {},
   "outputs": [
    {
     "data": {
      "text/plain": [
       "{'summary': 'For me, technology is a tool to make the world better, safer and more accessible. I like to develop softwares as a solution to problems. I am an experiment-and-experience person. I strongly believe everyone has a world-changing-idea, and I want to turn their ideas in reality through my technical and interpersonal skills.\\n\\nHighly interested to work in a fast-paced startup environment in fields backend Development or data science. \\n\\nReady for role in areas other than my expertise. Good at learning new skills and technologies. ',\n",
       " 'industryName': 'Online Publishing',\n",
       " 'lastName': 'Shah',\n",
       " 'locationName': 'Surat, Gujarat, India',\n",
       " 'student': False,\n",
       " 'geoCountryName': 'India',\n",
       " 'geoCountryUrn': 'urn:li:fs_geo:102713980',\n",
       " 'geoLocationBackfilled': False,\n",
       " 'elt': False,\n",
       " 'industryUrn': 'urn:li:fs_industry:113',\n",
       " 'firstName': 'Vivek',\n",
       " 'entityUrn': 'urn:li:fs_profile:ACoAACk7H6EBoqdfygSgjoVCmZPc33m3VCMxM-A',\n",
       " 'geoLocation': {'geoUrn': 'urn:li:fs_geo:103471675'},\n",
       " 'geoLocationName': 'Surat, Gujarat',\n",
       " 'location': {'preferredGeoPlace': 'urn:li:fs_city:(in,11-20)',\n",
       "  'basicLocation': {'countryCode': 'in'}},\n",
       " 'headline': 'Python || NodeJs || DataScience || Startups & Businesses',\n",
       " 'displayPictureUrl': 'https://media-exp1.licdn.com/dms/image/C5103AQEwMCk3g_J_YQ/profile-displayphoto-shrink_',\n",
       " 'profile_id': 'ACoAACk7H6EBoqdfygSgjoVCmZPc33m3VCMxM-A',\n",
       " 'experience': [{'locationName': 'Surat, Gujarat',\n",
       "   'entityUrn': 'urn:li:fs_position:(ACoAACk7H6EBoqdfygSgjoVCmZPc33m3VCMxM-A,1612104883)',\n",
       "   'geoLocationName': 'Surat, Gujarat',\n",
       "   'geoUrn': 'urn:li:fs_geo:104969684',\n",
       "   'companyName': 'GirlscriptSurat',\n",
       "   'timePeriod': {'startDate': {'month': 4, 'year': 2020}},\n",
       "   'company': {'employeeCountRange': {'start': 2, 'end': 10},\n",
       "    'industries': ['Nonprofit Organization Management']},\n",
       "   'title': 'Mentoring Team Member',\n",
       "   'region': 'urn:li:fs_region:(in,0)',\n",
       "   'companyUrn': 'urn:li:fs_miniCompany:31001181',\n",
       "   'companyLogoUrl': 'https://media-exp1.licdn.com/dms/image/C510BAQGUE4Zd8-mx5g/company-logo_'},\n",
       "  {'entityUrn': 'urn:li:fs_position:(ACoAACk7H6EBoqdfygSgjoVCmZPc33m3VCMxM-A,1502986675)',\n",
       "   'companyName': 'Computer Society of India',\n",
       "   'timePeriod': {'endDate': {'month': 8, 'year': 2020},\n",
       "    'startDate': {'month': 8, 'year': 2019}},\n",
       "   'company': {'employeeCountRange': {'start': 10001},\n",
       "    'industries': ['Nonprofit Organization Management']},\n",
       "   'title': 'President',\n",
       "   'companyUrn': 'urn:li:fs_miniCompany:223166',\n",
       "   'companyLogoUrl': 'https://media-exp1.licdn.com/dms/image/C510BAQG9cFMfbInkxw/company-logo_'},\n",
       "  {'locationName': 'Bengaluru, Karnataka',\n",
       "   'entityUrn': 'urn:li:fs_position:(ACoAACk7H6EBoqdfygSgjoVCmZPc33m3VCMxM-A,1615038683)',\n",
       "   'geoLocationName': 'Bengaluru, Karnataka',\n",
       "   'geoUrn': 'urn:li:fs_geo:105214831',\n",
       "   'companyName': 'Knowledge Foundry Business Solutions',\n",
       "   'timePeriod': {'endDate': {'month': 7, 'year': 2020},\n",
       "    'startDate': {'month': 5, 'year': 2020}},\n",
       "   'company': {'employeeCountRange': {'start': 11, 'end': 50},\n",
       "    'industries': ['Research']},\n",
       "   'title': 'Software Engineering Intern',\n",
       "   'region': 'urn:li:fs_region:(in,0)',\n",
       "   'companyUrn': 'urn:li:fs_miniCompany:287346',\n",
       "   'companyLogoUrl': 'https://media-exp1.licdn.com/dms/image/C560BAQHo4xY4PbUzhw/company-logo_'},\n",
       "  {'entityUrn': 'urn:li:fs_position:(ACoAACk7H6EBoqdfygSgjoVCmZPc33m3VCMxM-A,1443429046)',\n",
       "   'companyName': 'Shutterbugs DDU',\n",
       "   'timePeriod': {'endDate': {'month': 5, 'year': 2020},\n",
       "    'startDate': {'month': 3, 'year': 2019}},\n",
       "   'company': {'employeeCountRange': {'start': 11, 'end': 50},\n",
       "    'industries': ['Photography']},\n",
       "   'title': 'Commitee Head, Content Writing & Social Media',\n",
       "   'companyUrn': 'urn:li:fs_miniCompany:13687847',\n",
       "   'companyLogoUrl': 'https://media-exp1.licdn.com/dms/image/C510BAQE-3KISRaP56A/company-logo_'},\n",
       "  {'locationName': 'Nadiad',\n",
       "   'entityUrn': 'urn:li:fs_position:(ACoAACk7H6EBoqdfygSgjoVCmZPc33m3VCMxM-A,1486771512)',\n",
       "   'geoLocationName': 'Nadiad',\n",
       "   'companyName': 'HR Digital Marketing',\n",
       "   'timePeriod': {'endDate': {'month': 10, 'year': 2019},\n",
       "    'startDate': {'month': 7, 'year': 2019}},\n",
       "   'company': {'employeeCountRange': {'start': 2, 'end': 10},\n",
       "    'industries': ['Online Media']},\n",
       "   'title': 'Lead Web Developer',\n",
       "   'companyUrn': 'urn:li:fs_miniCompany:14755923',\n",
       "   'companyLogoUrl': 'https://media-exp1.licdn.com/dms/image/C510BAQEP2uvjtNncXA/company-logo_'}],\n",
       " 'skills': [{'name': 'Public Speaking',\n",
       "   'standardizedSkillUrn': 'urn:li:fs_miniSkill:1101',\n",
       "   'standardizedSkill': {'name': 'Public Speaking',\n",
       "    'entityUrn': 'urn:li:fs_miniSkill:1101'}},\n",
       "  {'name': 'Python (Programming Language)'},\n",
       "  {'name': 'Node.js'},\n",
       "  {'name': 'PHP'},\n",
       "  {'name': 'Microsoft Office',\n",
       "   'standardizedSkillUrn': 'urn:li:fs_miniSkill:366',\n",
       "   'standardizedSkill': {'name': 'Microsoft Office',\n",
       "    'entityUrn': 'urn:li:fs_miniSkill:366'}},\n",
       "  {'name': 'WordPress',\n",
       "   'standardizedSkillUrn': 'urn:li:fs_miniSkill:2438',\n",
       "   'standardizedSkill': {'name': 'WordPress',\n",
       "    'entityUrn': 'urn:li:fs_miniSkill:2438'}},\n",
       "  {'name': 'C (Programming Language)',\n",
       "   'standardizedSkillUrn': 'urn:li:fs_miniSkill:438',\n",
       "   'standardizedSkill': {'name': 'C (Programming Language)',\n",
       "    'entityUrn': 'urn:li:fs_miniSkill:438'}},\n",
       "  {'name': 'HTML'},\n",
       "  {'name': 'Cascading Style Sheets (CSS)'},\n",
       "  {'name': 'Bootstrap'},\n",
       "  {'name': 'Django'},\n",
       "  {'name': 'Java'},\n",
       "  {'name': 'Git'},\n",
       "  {'name': 'C++'},\n",
       "  {'name': 'Leadership',\n",
       "   'standardizedSkillUrn': 'urn:li:fs_miniSkill:154',\n",
       "   'standardizedSkill': {'name': 'Leadership',\n",
       "    'entityUrn': 'urn:li:fs_miniSkill:154'}},\n",
       "  {'name': 'Neo4j'},\n",
       "  {'name': 'Graph Databases'}],\n",
       " 'education': [{'entityUrn': 'urn:li:fs_education:(ACoAACk7H6EBoqdfygSgjoVCmZPc33m3VCMxM-A,558090210)',\n",
       "   'school': {'objectUrn': 'urn:li:school:13460',\n",
       "    'entityUrn': 'urn:li:fs_miniSchool:13460',\n",
       "    'active': True,\n",
       "    'schoolName': 'Dharmsinh Desai University',\n",
       "    'trackingId': 'xszxrb+7Rhak15QVd0lISQ==',\n",
       "    'logoUrl': 'https://media-exp1.licdn.com/dms/image/C4E0BAQFOem5sfsvzfg/company-logo_'},\n",
       "   'timePeriod': {'endDate': {'year': 2021}, 'startDate': {'year': 2017}},\n",
       "   'fieldOfStudyUrn': 'urn:li:fs_fieldOfStudy:100347',\n",
       "   'degreeName': 'Bachelor of Technology - BTech',\n",
       "   'schoolName': 'Dharmsinh Desai University',\n",
       "   'fieldOfStudy': 'Computer Engineering',\n",
       "   'degreeUrn': 'urn:li:fs_degree:250',\n",
       "   'schoolUrn': 'urn:li:fs_miniSchool:13460'}]}"
      ]
     },
     "execution_count": 104,
     "metadata": {},
     "output_type": "execute_result"
    }
   ],
   "source": [
    "profile"
   ]
  },
  {
   "cell_type": "code",
   "execution_count": 89,
   "metadata": {},
   "outputs": [
    {
     "data": {
      "text/plain": [
       "'Software Engineer at Pirimid Fintech'"
      ]
     },
     "execution_count": 89,
     "metadata": {},
     "output_type": "execute_result"
    }
   ],
   "source": [
    "headline = profile.get(\"headline\")\n",
    "headline"
   ]
  },
  {
   "cell_type": "code",
   "execution_count": 92,
   "metadata": {},
   "outputs": [],
   "source": [
    "location = profile.get(\"locationName\")\n",
    "location"
   ]
  },
  {
   "cell_type": "code",
   "execution_count": 93,
   "metadata": {},
   "outputs": [
    {
     "name": "stdout",
     "output_type": "stream",
     "text": [
      "Don’t waste your time on AI for AI’s sake. Be motivated by what it will do for you, not by how sci-fi it sounds.\n",
      "\n",
      "My skill set is best utilized in\n",
      "• Human Resource Management System\n",
      "• Event Management Application\n",
      "• Bus Booking System\n",
      "• Library for authentication and Authorization\n",
      "• Social Networking Application\n",
      "• Groot- Recruitment Portal\n",
      "\n",
      "Let's connect to see where can I help..be it..\n",
      "• Solving algorithmic problems\n",
      "• Solving AI problems\n",
      "• Developing web applications\n",
      "• Devloping web-crawlers\n",
      "• Creating machine learning models\n",
      "\n",
      "\n"
     ]
    }
   ],
   "source": [
    "summary = profile.get(\"summary\", None) \n",
    "print(summary)"
   ]
  },
  {
   "cell_type": "code",
   "execution_count": 94,
   "metadata": {},
   "outputs": [
    {
     "name": "stdout",
     "output_type": "stream",
     "text": [
      "{'institute': 'Dharmsinh Desai University', 'course': 'Bachelor of Technology - BTech - Computer Engineering', 'start_date': 2016, 'end_date': 2020, 'description': None}\n"
     ]
    }
   ],
   "source": [
    "for edu in profile.get(\"education\",[]):\n",
    "    educ = {}\n",
    "    educ[\"institute\"] = edu.get(\"schoolName\",)\n",
    "    educ[\"course\"] = edu.get(\"degreeName\")\n",
    "    if edu.get(\"fieldOfStudy\") is not None:\n",
    "        educ[\"course\"] += \" - \" + edu.get(\"fieldOfStudy\")\n",
    "    educ[\"start_date\"] = edu.get(\"timePeriod\",{}).get(\"startDate\",{}).get(\"year\",0)\n",
    "    educ[\"end_date\"] = edu.get(\"timePeriod\",{}).get(\"endDate\",{}).get(\"year\",0)\n",
    "    educ[\"description\"] = edu.get(\"description\")\n",
    "    print(educ)"
   ]
  },
  {
   "cell_type": "code",
   "execution_count": null,
   "metadata": {},
   "outputs": [],
   "source": []
  },
  {
   "cell_type": "code",
   "execution_count": 97,
   "metadata": {},
   "outputs": [
    {
     "name": "stdout",
     "output_type": "stream",
     "text": [
      "{'company': 'Pirimid Fintech', 'title': 'Software Engineer', 'location': 'Ahmedabad, Gujarat, India', 'start_date': 2020, 'end_date': 0}\n",
      "{'company': 'Pirimid Fintech', 'title': 'Software Engineer Intern', 'location': 'Ahmedabad Area, India', 'start_date': 2019, 'end_date': 2020}\n",
      "{'company': 'IntelliMind LLC', 'title': 'Software Engineer', 'location': 'Ahemdabad', 'start_date': 2019, 'end_date': 2019}\n"
     ]
    }
   ],
   "source": [
    "for workexp in profile.get(\"experience\",[]):\n",
    "    work = {}\n",
    "    work[\"company\"] = workexp.get(\"companyName\")\n",
    "    work[\"title\"] = workexp.get(\"title\")\n",
    "    work[\"location\"] = workexp.get(\"geoLocationName\")\n",
    "    work[\"start_date\"] = workexp.get(\"timePeriod\",{}).get(\"startDate\",{}).get(\"year\",0)\n",
    "    work[\"end_date\"] = workexp.get(\"timePeriod\",{}).get(\"endDate\",{}).get(\"year\",0)\n",
    "    work\n",
    "\n",
    "    print(work)"
   ]
  },
  {
   "cell_type": "code",
   "execution_count": 105,
   "metadata": {},
   "outputs": [],
   "source": [
    "month_name = [\"Jan\", \"Feb\", \"Mar\", \"Apr\", \"May\", \"Jun\", \"Jul\", \"Aug\", \"Sep\", \"Oct\", \"Nov\", \"Dec\"]\n"
   ]
  },
  {
   "cell_type": "code",
   "execution_count": 116,
   "metadata": {},
   "outputs": [
    {
     "name": "stdout",
     "output_type": "stream",
     "text": [
      "{'work_exp': [{'company': 'GirlscriptSurat', 'title': 'Mentoring Team Member', 'location': 'Surat, Gujarat', 'start_date': 'Apr, 2020', 'end_date': 0}, {'company': 'Computer Society of India', 'title': 'President', 'location': None, 'start_date': 'Aug, 2019', 'end_date': 'Aug, 2020'}, {'company': 'Knowledge Foundry Business Solutions', 'title': 'Software Engineering Intern', 'location': 'Bengaluru, Karnataka', 'start_date': 'May, 2020', 'end_date': 'Jul, 2020'}, {'company': 'Shutterbugs DDU', 'title': 'Commitee Head, Content Writing & Social Media', 'location': None, 'start_date': 'Mar, 2019', 'end_date': 'May, 2020'}, {'company': 'HR Digital Marketing', 'title': 'Lead Web Developer', 'location': 'Nadiad', 'start_date': 'Jul, 2019', 'end_date': 'Oct, 2019'}]}\n"
     ]
    }
   ],
   "source": [
    "li_data = {}\n",
    "li_data[\"work_exp\"] = []\n",
    "for workexp in profile.get(\"experience\",[]):\n",
    "    work = {}\n",
    "    work[\"company\"] = workexp.get(\"companyName\")\n",
    "    work[\"title\"] = workexp.get(\"title\")\n",
    "    work[\"location\"] = workexp.get(\"geoLocationName\")\n",
    "    work[\"start_date\"] = workexp.get(\"timePeriod\",{}).get(\"startDate\",{}).get(\"year\",0)\n",
    "    start_month = workexp.get(\"timePeriod\",{}).get(\"startDate\",{}).get(\"month\",0)\n",
    "    if start_month != 0:\n",
    "        work[\"start_date\"] = f'{month_name[start_month-1]}, {work[\"start_date\"]}'\n",
    "    work[\"end_date\"] = workexp.get(\"timePeriod\",{}).get(\"endDate\",{}).get(\"year\",0)\n",
    "    end_month = workexp.get(\"timePeriod\",{}).get(\"endDate\",{}).get(\"month\",0)\n",
    "    if end_month != 0:\n",
    "        work[\"end_date\"] = f'{month_name[end_month-1]}, {work[\"end_date\"]}'\n",
    "    li_data[\"work_exp\"].append(work)\n",
    "print(li_data)"
   ]
  },
  {
   "cell_type": "code",
   "execution_count": 111,
   "metadata": {},
   "outputs": [
    {
     "data": {
      "text/plain": [
       "2020"
      ]
     },
     "execution_count": 111,
     "metadata": {},
     "output_type": "execute_result"
    }
   ],
   "source": [
    "    "
   ]
  }
 ],
 "metadata": {
  "kernelspec": {
   "display_name": "Python 3",
   "language": "python",
   "name": "python3"
  },
  "language_info": {
   "codemirror_mode": {
    "name": "ipython",
    "version": 3
   },
   "file_extension": ".py",
   "mimetype": "text/x-python",
   "name": "python",
   "nbconvert_exporter": "python",
   "pygments_lexer": "ipython3",
   "version": "3.6.9"
  }
 },
 "nbformat": 4,
 "nbformat_minor": 4
}
