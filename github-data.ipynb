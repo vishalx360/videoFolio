{
 "cells": [
  {
   "cell_type": "code",
   "execution_count": 139,
   "metadata": {},
   "outputs": [],
   "source": [
    "import requests\n",
    "import json\n",
    "import urllib\n",
    "import random\n",
    "from itertools import cycle\n",
    "import traceback\n",
    "import re\n",
    "from bs4 import BeautifulSoup\n",
    "from collections import Counter"
   ]
  },
  {
   "cell_type": "code",
   "execution_count": 118,
   "metadata": {},
   "outputs": [],
   "source": [
    "from lxml.html import fromstring\n",
    "def get_proxies():\n",
    "    url = 'https://free-proxy-list.net/'\n",
    "    response = requests.get(url)\n",
    "    parser = fromstring(response.text)\n",
    "    proxies = set()\n",
    "    for i in parser.xpath('//tbody/tr')[:10]:\n",
    "        if i.xpath('.//td[7][contains(text(),\"yes\")]'):\n",
    "            #Grabbing IP and corresponding PORT\n",
    "            proxy = \":\".join([i.xpath('.//td[1]/text()')[0], i.xpath('.//td[2]/text()')[0]])\n",
    "            proxies.add(proxy)\n",
    "    return proxies"
   ]
  },
  {
   "cell_type": "code",
   "execution_count": 119,
   "metadata": {},
   "outputs": [
    {
     "data": {
      "text/plain": [
       "'95.0.206.216:8080'"
      ]
     },
     "execution_count": 119,
     "metadata": {},
     "output_type": "execute_result"
    }
   ],
   "source": [
    "proxies = list(get_proxies())\n",
    "\n",
    "proxy_pool = cycle(proxies)\n",
    "\n",
    "proxy = next(proxy_pool)\n",
    "# proxy='https://51.75.147.35:80'\n",
    "\n",
    "proxy"
   ]
  },
  {
   "cell_type": "code",
   "execution_count": 178,
   "metadata": {
    "scrolled": false
   },
   "outputs": [
    {
     "name": "stdout",
     "output_type": "stream",
     "text": [
      "{'login': 'avni0405', 'id': 51811216, 'node_id': 'MDQ6VXNlcjUxODExMjE2', 'avatar_url': 'https://avatars1.githubusercontent.com/u/51811216?v=4', 'gravatar_id': '', 'url': 'https://api.github.com/users/avni0405', 'html_url': 'https://github.com/avni0405', 'followers_url': 'https://api.github.com/users/avni0405/followers', 'following_url': 'https://api.github.com/users/avni0405/following{/other_user}', 'gists_url': 'https://api.github.com/users/avni0405/gists{/gist_id}', 'starred_url': 'https://api.github.com/users/avni0405/starred{/owner}{/repo}', 'subscriptions_url': 'https://api.github.com/users/avni0405/subscriptions', 'organizations_url': 'https://api.github.com/users/avni0405/orgs', 'repos_url': 'https://api.github.com/users/avni0405/repos', 'events_url': 'https://api.github.com/users/avni0405/events{/privacy}', 'received_events_url': 'https://api.github.com/users/avni0405/received_events', 'type': 'User', 'site_admin': False, 'name': 'Avina Vekariya', 'company': None, 'blog': '', 'location': 'Surat', 'email': None, 'hireable': None, 'bio': 'Computer Engineering Student at Dharmsinh Desai University, Nadiad.', 'twitter_username': 'vekariya_avina', 'public_repos': 15, 'public_gists': 0, 'followers': 14, 'following': 10, 'created_at': '2019-06-14T04:33:26Z', 'updated_at': '2020-11-07T11:39:48Z'}\n",
      "[]\n"
     ]
    }
   ],
   "source": [
    "username=\"avni0405\"\n",
    "repo=[]\n",
    "star={}\n",
    "popular_repo={}\n",
    "language=[]\n",
    "contributed_repo=[]\n",
    "popular_contributed_repo={}\n",
    "url_for_api='https://api.github.com/users/'+username\n",
    "\n",
    "## --- Get User data from username ---- ##\n",
    "data=requests.get(url_for_api )\n",
    "data=data.text\n",
    "data=json.loads(data)\n",
    "\n",
    "print(data)\n",
    "## --- Get repository data from repo_url ---- ##\n",
    "repo_url=data['repos_url']\n",
    "repo_data=requests.get(repo_url)\n",
    "repo_data=repo_data.text\n",
    "repo_data=json.loads(repo_data)\n",
    "# print(repo_data)\n",
    "\n",
    "## --- Get name of repository --- ##\n",
    "for i in range(0,len(repo_data)):\n",
    "    flag=0\n",
    "    \n",
    "    ## --- Get repository url --- ##\n",
    "    url=repo_data[i]['url']\n",
    "    url_data=requests.get(url)\n",
    "    url_data=url_data.text\n",
    "    url_data=json.loads(url_data)\n",
    "    \n",
    "    ## ---- Get Star of particular repository ---- ##\n",
    "    star_url=repo_data[i]['stargazers_url']\n",
    "    star_data=requests.get(star_url)\n",
    "    star_data=star_data.text\n",
    "    star_data=json.loads(star_data)\n",
    "    language.append(repo_data[i]['language'])\n",
    "    if(len(star_data)>5 and flag==1):\n",
    "        \n",
    "        popular_repo.__setitem__(repo_data[i]['name'],len(star_data))\n",
    "        \n",
    "        \n",
    "    try:\n",
    "        \n",
    "        contributed_repo.append(repo_data[i]['name'])\n",
    "        star.__setitem__(url_data['parent']['forks'],url_data['parent']['owner']['html_url'])\n",
    "    except:\n",
    "        flag=1\n",
    "        repo.append(repo_data[i]['name'])\n",
    "    \n",
    "    \n",
    "sorted_fork={}\n",
    "\n",
    "sorted_fork = sorted(star.items(), key=lambda kv: kv[0],reverse=True)\n",
    "sorted_fork=dict(sorted_fork)\n",
    "list_fork=list(sorted_fork.values())\n",
    "if(len(list_fork)>4):\n",
    "    list_fork=list_fork[0:3]\n",
    "else:\n",
    "    list_fork=list_fork\n",
    "\n",
    "print(list_fork)\n",
    "##  --- Get top 3 language --- ## \n",
    "language = [i for i in language if i] \n",
    "lang=Counter(language)\n",
    "lang=dict(lang)\n",
    "sorted_x = sorted(lang.items(), key=lambda kv: kv[1],reverse=True)\n",
    "sorted_lang=dict(sorted_x)\n",
    "list_lang=list(sorted_lang.keys())\n",
    "list_lang=list_lang[0:3]  \n",
    "        \n",
    "        \n",
    "\n",
    "## --- Scrap Contribution of user ---- ##\n",
    "url='https://github.com/'+username\n",
    "cont_data=requests.get(url)\n",
    "\n",
    "cont_data=cont_data.text\n",
    "soup = BeautifulSoup(cont_data, 'html.parser')\n",
    "cont_data = soup.findAll(\"h2\", {\"class\": \"f4 text-normal mb-2\"})\n",
    "cont_data=cont_data[0].text.strip()\n",
    "temp = re.findall(r'\\d+', cont_data) \n",
    "    \n",
    "data_dict={'name':data['name'],'popular_contribution':list_fork,'language':list_lang,'total_contributed_repo':len(contributed_repo),'repo_count':len(repo),'popular_repo':popular_repo,'email':data['email'],'company':data['company'],'contribution':temp[0],'location':data['location'],'bio':data['bio'],'twitter':data['twitter_username'],'no_of_public_repo':data['public_repos'],'followers':data['followers']}\n",
    "\n",
    "\n"
   ]
  },
  {
   "cell_type": "code",
   "execution_count": 179,
   "metadata": {},
   "outputs": [
    {
     "data": {
      "text/plain": [
       "{'name': 'Avina Vekariya',\n",
       " 'popular_contribution': [],\n",
       " 'language': ['HTML', 'C', 'JavaScript'],\n",
       " 'total_contributed_repo': 15,\n",
       " 'repo_count': 15,\n",
       " 'popular_repo': {},\n",
       " 'email': None,\n",
       " 'company': None,\n",
       " 'contribution': '94',\n",
       " 'location': 'Surat',\n",
       " 'bio': 'Computer Engineering Student at Dharmsinh Desai University, Nadiad.',\n",
       " 'twitter': 'vekariya_avina',\n",
       " 'no_of_public_repo': 15,\n",
       " 'followers': 14}"
      ]
     },
     "execution_count": 179,
     "metadata": {},
     "output_type": "execute_result"
    }
   ],
   "source": [
    "data_dict"
   ]
  },
  {
   "cell_type": "code",
   "execution_count": 162,
   "metadata": {},
   "outputs": [
    {
     "data": {
      "text/plain": [
       "['JavaScript', 'TypeScript', 'Python']"
      ]
     },
     "execution_count": 162,
     "metadata": {},
     "output_type": "execute_result"
    }
   ],
   "source": [
    "\n"
   ]
  },
  {
   "cell_type": "code",
   "execution_count": null,
   "metadata": {},
   "outputs": [],
   "source": [
    "print(popular_repo)"
   ]
  },
  {
   "cell_type": "code",
   "execution_count": null,
   "metadata": {},
   "outputs": [],
   "source": [
    "\n"
   ]
  },
  {
   "cell_type": "code",
   "execution_count": null,
   "metadata": {},
   "outputs": [],
   "source": []
  },
  {
   "cell_type": "code",
   "execution_count": null,
   "metadata": {},
   "outputs": [],
   "source": []
  },
  {
   "cell_type": "code",
   "execution_count": null,
   "metadata": {},
   "outputs": [],
   "source": []
  }
 ],
 "metadata": {
  "kernelspec": {
   "display_name": "Python 3",
   "language": "python",
   "name": "python3"
  },
  "language_info": {
   "codemirror_mode": {
    "name": "ipython",
    "version": 3
   },
   "file_extension": ".py",
   "mimetype": "text/x-python",
   "name": "python",
   "nbconvert_exporter": "python",
   "pygments_lexer": "ipython3",
   "version": "3.8.2"
  }
 },
 "nbformat": 4,
 "nbformat_minor": 4
}
