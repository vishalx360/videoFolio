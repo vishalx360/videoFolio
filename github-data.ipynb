{
 "cells": [
  {
   "cell_type": "code",
   "execution_count": null,
   "metadata": {},
   "outputs": [],
   "source": [
    "import requests\n",
    "import json\n",
    "import urllib\n",
    "import random\n",
    "from itertools import cycle\n",
    "import traceback\n",
    "import re\n",
    "from bs4 import BeautifulSoup"
   ]
  },
  {
   "cell_type": "code",
   "execution_count": null,
   "metadata": {},
   "outputs": [],
   "source": [
    "from lxml.html import fromstring\n",
    "def get_proxies():\n",
    "    url = 'https://free-proxy-list.net/'\n",
    "    response = requests.get(url)\n",
    "    parser = fromstring(response.text)\n",
    "    proxies = set()\n",
    "    for i in parser.xpath('//tbody/tr')[:10]:\n",
    "        if i.xpath('.//td[7][contains(text(),\"yes\")]'):\n",
    "            #Grabbing IP and corresponding PORT\n",
    "            proxy = \":\".join([i.xpath('.//td[1]/text()')[0], i.xpath('.//td[2]/text()')[0]])\n",
    "            proxies.add(proxy)\n",
    "    return proxies"
   ]
  },
  {
   "cell_type": "code",
   "execution_count": null,
   "metadata": {},
   "outputs": [],
   "source": [
    "proxies = list(get_proxies())\n",
    "\n",
    "proxy_pool = cycle(proxies)\n",
    "\n",
    "proxy = next(proxy_pool)\n",
    "# proxy='https://51.75.147.35:80'\n",
    "\n",
    "proxy"
   ]
  },
  {
   "cell_type": "code",
   "execution_count": null,
   "metadata": {
    "scrolled": false
   },
   "outputs": [],
   "source": [
    "username=\"avni0405\"\n",
    "repo=[]\n",
    "star=[]\n",
    "popular_repo={}\n",
    "\n",
    "url_for_api='https://api.github.com/users/'+username\n",
    "\n",
    "## --- Get User data from username ---- ##\n",
    "data=requests.get(url_for_api ,proxies={\"http\": proxy, \"https\": proxy})\n",
    "data=data.text\n",
    "data=json.loads(data)\n",
    "\n",
    "\n",
    "## --- Get repository data from repo_url ---- ##\n",
    "repo_url=data['repos_url']\n",
    "repo_data=requests.get(repo_url)\n",
    "repo_data=repo_data.text\n",
    "repo_data=json.loads(repo_data)\n",
    "\n",
    "\n",
    "## --- Get name of repository --- ##\n",
    "for i in range(0,len(repo_data)):\n",
    "    repo.append(repo_data[i]['name'])\n",
    "    \n",
    "    ## ---- Get Star of particular repository ---- ##\n",
    "    star_url=repo_data[i]['stargazers_url']\n",
    "    star_data=requests.get(star_url)\n",
    "    star_data=star_data.text\n",
    "    star_data=json.loads(star_data)\n",
    "    if(len(star_data)>5):\n",
    "        \n",
    "        popular_repo.__setitem__(repo_data[i]['name'],len(star_data))\n",
    "        \n",
    "        \n",
    "\n",
    "## --- Scrap Contribution of user ---- ##\n",
    "url='https://github.com/'+username\n",
    "cont_data=requests.get(url)\n",
    "\n",
    "cont_data=cont_data.text\n",
    "soup = BeautifulSoup(cont_data, 'html.parser')\n",
    "cont_data = soup.findAll(\"h2\", {\"class\": \"f4 text-normal mb-2\"})\n",
    "cont_data=cont_data[0].text.strip()\n",
    "temp = re.findall(r'\\d+', cont_data) \n",
    "    \n",
    "data_dict={'name':data['name'],'email':data['email'],'company':data['company'],'contribution':temp[0],'location':data['location'],'bio':data['bio'],'twitter':data['twitter_username'],'no_of_public_repo':data['public_repos'],'followers':data['followers'],'repo':repo}\n",
    "\n",
    "\n"
   ]
  },
  {
   "cell_type": "code",
   "execution_count": null,
   "metadata": {},
   "outputs": [],
   "source": [
    "print(data_dict)"
   ]
  },
  {
   "cell_type": "code",
   "execution_count": null,
   "metadata": {},
   "outputs": [],
   "source": [
    "print(popular_repo)"
   ]
  },
  {
   "cell_type": "code",
   "execution_count": null,
   "metadata": {},
   "outputs": [],
   "source": [
    "\n"
   ]
  },
  {
   "cell_type": "code",
   "execution_count": null,
   "metadata": {},
   "outputs": [],
   "source": []
  },
  {
   "cell_type": "code",
   "execution_count": null,
   "metadata": {},
   "outputs": [],
   "source": []
  },
  {
   "cell_type": "code",
   "execution_count": null,
   "metadata": {},
   "outputs": [],
   "source": []
  }
 ],
 "metadata": {
  "kernelspec": {
   "display_name": "Python 3",
   "language": "python",
   "name": "python3"
  },
  "language_info": {
   "codemirror_mode": {
    "name": "ipython",
    "version": 3
   },
   "file_extension": ".py",
   "mimetype": "text/x-python",
   "name": "python",
   "nbconvert_exporter": "python",
   "pygments_lexer": "ipython3",
   "version": "3.8.2"
  }
 },
 "nbformat": 4,
 "nbformat_minor": 4
}
