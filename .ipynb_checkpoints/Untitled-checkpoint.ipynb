{
 "cells": [
  {
   "cell_type": "code",
   "execution_count": 2,
   "metadata": {},
   "outputs": [],
   "source": [
    "from bs4 import BeautifulSoup, SoupStrainer\n",
    "import requests\n",
    "import re\n",
    "import json"
   ]
  },
  {
   "cell_type": "code",
   "execution_count": 3,
   "metadata": {},
   "outputs": [],
   "source": [
    "from selenium import webdriver"
   ]
  },
  {
   "cell_type": "code",
   "execution_count": 4,
   "metadata": {},
   "outputs": [],
   "source": [
    "from webdriver_manager.chrome import ChromeDriverManager"
   ]
  },
  {
   "cell_type": "code",
   "execution_count": 51,
   "metadata": {},
   "outputs": [
    {
     "name": "stderr",
     "output_type": "stream",
     "text": [
      "[WDM] - Current google-chrome version is 86.0.4240\n",
      "[WDM] - Get LATEST driver version for 86.0.4240\n",
      "[WDM] - Driver [/home/vivekshah/.wdm/drivers/chromedriver/linux64/86.0.4240.22/chromedriver] found in cache\n"
     ]
    },
    {
     "name": "stdout",
     "output_type": "stream",
     "text": [
      " \n"
     ]
    }
   ],
   "source": [
    "chrome_options = webdriver.ChromeOptions()\n",
    "chrome_options.add_argument('--no-sandbox')\n",
    "browser = webdriver.Chrome(ChromeDriverManager().install(),options=chrome_options)"
   ]
  },
  {
   "cell_type": "code",
   "execution_count": 52,
   "metadata": {},
   "outputs": [],
   "source": [
    "browser.get(\"https://www.linkedin.com/in/rahi-shah-a55a88163/\")"
   ]
  },
  {
   "cell_type": "code",
   "execution_count": 3,
   "metadata": {},
   "outputs": [],
   "source": []
  },
  {
   "cell_type": "code",
   "execution_count": null,
   "metadata": {},
   "outputs": [],
   "source": []
  },
  {
   "cell_type": "code",
   "execution_count": 5,
   "metadata": {},
   "outputs": [
    {
     "name": "stderr",
     "output_type": "stream",
     "text": [
      "[WDM] - Current google-chrome version is 86.0.4240\n",
      "[WDM] - Get LATEST driver version for 86.0.4240\n",
      "[WDM] - Driver [/home/vivekshah/.wdm/drivers/chromedriver/linux64/86.0.4240.22/chromedriver] found in cache\n"
     ]
    },
    {
     "name": "stdout",
     "output_type": "stream",
     "text": [
      " \n"
     ]
    }
   ],
   "source": [
    "from linkedin_scraper import Person, actions\n",
    "from selenium import webdriver\n",
    "driver = webdriver.Chrome(ChromeDriverManager().install())"
   ]
  },
  {
   "cell_type": "code",
   "execution_count": 6,
   "metadata": {},
   "outputs": [
    {
     "ename": "TimeoutException",
     "evalue": "Message: \n",
     "output_type": "error",
     "traceback": [
      "\u001b[0;31m---------------------------------------------------------------------------\u001b[0m",
      "\u001b[0;31mTimeoutException\u001b[0m                          Traceback (most recent call last)",
      "\u001b[0;32m<ipython-input-6-38e7cb2fe44f>\u001b[0m in \u001b[0;36m<module>\u001b[0;34m\u001b[0m\n\u001b[1;32m      1\u001b[0m \u001b[0memail\u001b[0m \u001b[0;34m=\u001b[0m \u001b[0;34m\"elonmusktesting@gmail.com\"\u001b[0m\u001b[0;34m\u001b[0m\u001b[0;34m\u001b[0m\u001b[0m\n\u001b[1;32m      2\u001b[0m \u001b[0mpassword\u001b[0m \u001b[0;34m=\u001b[0m \u001b[0;34m\"Albert2000\"\u001b[0m\u001b[0;34m\u001b[0m\u001b[0;34m\u001b[0m\u001b[0m\n\u001b[0;32m----> 3\u001b[0;31m \u001b[0mactions\u001b[0m\u001b[0;34m.\u001b[0m\u001b[0mlogin\u001b[0m\u001b[0;34m(\u001b[0m\u001b[0mdriver\u001b[0m\u001b[0;34m,\u001b[0m \u001b[0memail\u001b[0m\u001b[0;34m,\u001b[0m \u001b[0mpassword\u001b[0m\u001b[0;34m)\u001b[0m \u001b[0;31m# if email and password isnt given, it'll prompt in terminal\u001b[0m\u001b[0;34m\u001b[0m\u001b[0;34m\u001b[0m\u001b[0m\n\u001b[0m",
      "\u001b[0;32m~/.local/lib/python3.6/site-packages/linkedin_scraper/actions.py\u001b[0m in \u001b[0;36mlogin\u001b[0;34m(driver, email, password)\u001b[0m\n\u001b[1;32m     28\u001b[0m   \u001b[0mpassword_elem\u001b[0m\u001b[0;34m.\u001b[0m\u001b[0msubmit\u001b[0m\u001b[0;34m(\u001b[0m\u001b[0;34m)\u001b[0m\u001b[0;34m\u001b[0m\u001b[0;34m\u001b[0m\u001b[0m\n\u001b[1;32m     29\u001b[0m \u001b[0;34m\u001b[0m\u001b[0m\n\u001b[0;32m---> 30\u001b[0;31m   \u001b[0melement\u001b[0m \u001b[0;34m=\u001b[0m \u001b[0mWebDriverWait\u001b[0m\u001b[0;34m(\u001b[0m\u001b[0mdriver\u001b[0m\u001b[0;34m,\u001b[0m \u001b[0;36m10\u001b[0m\u001b[0;34m)\u001b[0m\u001b[0;34m.\u001b[0m\u001b[0muntil\u001b[0m\u001b[0;34m(\u001b[0m\u001b[0mEC\u001b[0m\u001b[0;34m.\u001b[0m\u001b[0mpresence_of_element_located\u001b[0m\u001b[0;34m(\u001b[0m\u001b[0;34m(\u001b[0m\u001b[0mBy\u001b[0m\u001b[0;34m.\u001b[0m\u001b[0mID\u001b[0m\u001b[0;34m,\u001b[0m \u001b[0;34m\"profile-nav-item\"\u001b[0m\u001b[0;34m)\u001b[0m\u001b[0;34m)\u001b[0m\u001b[0;34m)\u001b[0m\u001b[0;34m\u001b[0m\u001b[0;34m\u001b[0m\u001b[0m\n\u001b[0m",
      "\u001b[0;32m~/.local/lib/python3.6/site-packages/selenium/webdriver/support/wait.py\u001b[0m in \u001b[0;36muntil\u001b[0;34m(self, method, message)\u001b[0m\n\u001b[1;32m     78\u001b[0m             \u001b[0;32mif\u001b[0m \u001b[0mtime\u001b[0m\u001b[0;34m.\u001b[0m\u001b[0mtime\u001b[0m\u001b[0;34m(\u001b[0m\u001b[0;34m)\u001b[0m \u001b[0;34m>\u001b[0m \u001b[0mend_time\u001b[0m\u001b[0;34m:\u001b[0m\u001b[0;34m\u001b[0m\u001b[0;34m\u001b[0m\u001b[0m\n\u001b[1;32m     79\u001b[0m                 \u001b[0;32mbreak\u001b[0m\u001b[0;34m\u001b[0m\u001b[0;34m\u001b[0m\u001b[0m\n\u001b[0;32m---> 80\u001b[0;31m         \u001b[0;32mraise\u001b[0m \u001b[0mTimeoutException\u001b[0m\u001b[0;34m(\u001b[0m\u001b[0mmessage\u001b[0m\u001b[0;34m,\u001b[0m \u001b[0mscreen\u001b[0m\u001b[0;34m,\u001b[0m \u001b[0mstacktrace\u001b[0m\u001b[0;34m)\u001b[0m\u001b[0;34m\u001b[0m\u001b[0;34m\u001b[0m\u001b[0m\n\u001b[0m\u001b[1;32m     81\u001b[0m \u001b[0;34m\u001b[0m\u001b[0m\n\u001b[1;32m     82\u001b[0m     \u001b[0;32mdef\u001b[0m \u001b[0muntil_not\u001b[0m\u001b[0;34m(\u001b[0m\u001b[0mself\u001b[0m\u001b[0;34m,\u001b[0m \u001b[0mmethod\u001b[0m\u001b[0;34m,\u001b[0m \u001b[0mmessage\u001b[0m\u001b[0;34m=\u001b[0m\u001b[0;34m''\u001b[0m\u001b[0;34m)\u001b[0m\u001b[0;34m:\u001b[0m\u001b[0;34m\u001b[0m\u001b[0;34m\u001b[0m\u001b[0m\n",
      "\u001b[0;31mTimeoutException\u001b[0m: Message: \n"
     ]
    }
   ],
   "source": [
    "email = \"elonmusktesting@gmail.com\"\n",
    "password = \"Albert2000\"\n",
    "actions.login(driver, email, password) # if email and password isnt given, it'll prompt in terminal\n"
   ]
  },
  {
   "cell_type": "code",
   "execution_count": 7,
   "metadata": {},
   "outputs": [],
   "source": [
    "person = Person(\"https://www.linkedin.com/in/andre-iguodala-65b48ab5\", driver=driver)`"
   ]
  },
  {
   "cell_type": "code",
   "execution_count": 14,
   "metadata": {},
   "outputs": [
    {
     "data": {
      "text/plain": [
       "[Professional Basketball Player at National Basketball Association (NBA) from 2004 – to  for 16 yrs based at United States,\n",
       " Venture Partner at None from None to None for None based at None,\n",
       " Investment Committee at None from None to None for None based at None,\n",
       " Board Member at None from None to None for None based at None,\n",
       " Vice President at National Basketball Players Association (NBPA) from Feb 2013 to Present for 7 yrs 10 mos based at New York, NY]"
      ]
     },
     "execution_count": 14,
     "metadata": {},
     "output_type": "execute_result"
    }
   ],
   "source": [
    "person.experiences"
   ]
  },
  {
   "cell_type": "code",
   "execution_count": 16,
   "metadata": {},
   "outputs": [
    {
     "name": "stdout",
     "output_type": "stream",
     "text": [
      "Collecting linkedin_api\n",
      "  Downloading https://files.pythonhosted.org/packages/7f/bd/5204a0f94026350d9c04e1642626448a2ee94ef5529f4e4f0f2e7e393264/linkedin_api-1.1.0-py3-none-any.whl\n",
      "Collecting requests (from linkedin_api)\n",
      "  Using cached https://files.pythonhosted.org/packages/45/1e/0c169c6a5381e241ba7404532c16a21d86ab872c9bed8bdcd4c423954103/requests-2.24.0-py2.py3-none-any.whl\n",
      "Collecting urllib3!=1.25.0,!=1.25.1,<1.26,>=1.21.1 (from requests->linkedin_api)\n",
      "  Using cached https://files.pythonhosted.org/packages/56/aa/4ef5aa67a9a62505db124a5cb5262332d1d4153462eb8fd89c9fa41e5d92/urllib3-1.25.11-py2.py3-none-any.whl\n",
      "Collecting certifi>=2017.4.17 (from requests->linkedin_api)\n",
      "  Using cached https://files.pythonhosted.org/packages/5e/c4/6c4fe722df5343c33226f0b4e0bb042e4dc13483228b4718baf286f86d87/certifi-2020.6.20-py2.py3-none-any.whl\n",
      "Collecting idna<3,>=2.5 (from requests->linkedin_api)\n",
      "  Using cached https://files.pythonhosted.org/packages/a2/38/928ddce2273eaa564f6f50de919327bf3a00f091b5baba8dfa9460f3a8a8/idna-2.10-py2.py3-none-any.whl\n",
      "Collecting chardet<4,>=3.0.2 (from requests->linkedin_api)\n",
      "  Using cached https://files.pythonhosted.org/packages/bc/a9/01ffebfb562e4274b6487b4bb1ddec7ca55ec7510b22e4c51f14098443b8/chardet-3.0.4-py2.py3-none-any.whl\n",
      "Installing collected packages: urllib3, certifi, idna, chardet, requests, linkedin-api\n",
      "Successfully installed certifi-2020.6.20 chardet-3.0.4 idna-2.10 linkedin-api-1.1.0 requests-2.24.0 urllib3-1.25.11\n"
     ]
    }
   ],
   "source": [
    "!pip3 install linkedin_api"
   ]
  },
  {
   "cell_type": "code",
   "execution_count": 31,
   "metadata": {},
   "outputs": [],
   "source": [
    "from linkedin_api import Linkedin\n",
    "\n",
    "# Authenticate using any Linkedin account credentials\n",
    "api = Linkedin('elonmusktesting@gmail.com', 'Albert2000')\n",
    "\n"
   ]
  },
  {
   "cell_type": "code",
   "execution_count": 33,
   "metadata": {},
   "outputs": [],
   "source": [
    "# GET a profile\n",
    "profile = api.get_profile('vivekshah1801')"
   ]
  },
  {
   "cell_type": "code",
   "execution_count": 34,
   "metadata": {},
   "outputs": [
    {
     "data": {
      "text/plain": [
       "{'summary': 'For me, technology is a tool to make the world better, safer and more accessible. I like to develop softwares as a solution to problems. I am an experiment-and-experience person. I strongly believe everyone has a world-changing-idea, and I want to turn their ideas in reality through my technical and interpersonal skills.\\n\\nHighly interested to work in a fast-paced startup environment in fields backend Development or data science. \\n\\nReady for role in areas other than my expertise. Good at learning new skills and technologies. ',\n",
       " 'industryName': 'Online Publishing',\n",
       " 'lastName': 'Shah',\n",
       " 'locationName': 'Surat, Gujarat, India',\n",
       " 'student': False,\n",
       " 'geoCountryName': 'India',\n",
       " 'geoCountryUrn': 'urn:li:fs_geo:102713980',\n",
       " 'geoLocationBackfilled': False,\n",
       " 'elt': False,\n",
       " 'industryUrn': 'urn:li:fs_industry:113',\n",
       " 'firstName': 'Vivek',\n",
       " 'entityUrn': 'urn:li:fs_profile:ACoAACk7H6EBoqdfygSgjoVCmZPc33m3VCMxM-A',\n",
       " 'geoLocation': {'geoUrn': 'urn:li:fs_geo:103471675'},\n",
       " 'geoLocationName': 'Surat, Gujarat',\n",
       " 'location': {'preferredGeoPlace': 'urn:li:fs_city:(in,11-20)',\n",
       "  'basicLocation': {'countryCode': 'in'}},\n",
       " 'headline': 'Python || NodeJs || DataScience || Startups & Businesses',\n",
       " 'displayPictureUrl': 'https://media-exp1.licdn.com/dms/image/C5103AQEwMCk3g_J_YQ/profile-displayphoto-shrink_',\n",
       " 'profile_id': 'ACoAACk7H6EBoqdfygSgjoVCmZPc33m3VCMxM-A',\n",
       " 'experience': [{'locationName': 'Surat, Gujarat',\n",
       "   'entityUrn': 'urn:li:fs_position:(ACoAACk7H6EBoqdfygSgjoVCmZPc33m3VCMxM-A,1612104883)',\n",
       "   'geoLocationName': 'Surat, Gujarat',\n",
       "   'geoUrn': 'urn:li:fs_geo:104969684',\n",
       "   'companyName': 'GirlscriptSurat',\n",
       "   'timePeriod': {'startDate': {'month': 4, 'year': 2020}},\n",
       "   'company': {'employeeCountRange': {'start': 2, 'end': 10},\n",
       "    'industries': ['Nonprofit Organization Management']},\n",
       "   'title': 'Mentoring Team Member',\n",
       "   'region': 'urn:li:fs_region:(in,0)',\n",
       "   'companyUrn': 'urn:li:fs_miniCompany:31001181',\n",
       "   'companyLogoUrl': 'https://media-exp1.licdn.com/dms/image/C510BAQGUE4Zd8-mx5g/company-logo_'},\n",
       "  {'entityUrn': 'urn:li:fs_position:(ACoAACk7H6EBoqdfygSgjoVCmZPc33m3VCMxM-A,1502986675)',\n",
       "   'companyName': 'Computer Society of India',\n",
       "   'timePeriod': {'endDate': {'month': 8, 'year': 2020},\n",
       "    'startDate': {'month': 8, 'year': 2019}},\n",
       "   'company': {'employeeCountRange': {'start': 10001},\n",
       "    'industries': ['Nonprofit Organization Management']},\n",
       "   'title': 'President',\n",
       "   'companyUrn': 'urn:li:fs_miniCompany:223166',\n",
       "   'companyLogoUrl': 'https://media-exp1.licdn.com/dms/image/C510BAQG9cFMfbInkxw/company-logo_'},\n",
       "  {'locationName': 'Bengaluru, Karnataka',\n",
       "   'entityUrn': 'urn:li:fs_position:(ACoAACk7H6EBoqdfygSgjoVCmZPc33m3VCMxM-A,1615038683)',\n",
       "   'geoLocationName': 'Bengaluru, Karnataka',\n",
       "   'geoUrn': 'urn:li:fs_geo:105214831',\n",
       "   'companyName': 'Knowledge Foundry Business Solutions',\n",
       "   'timePeriod': {'endDate': {'month': 7, 'year': 2020},\n",
       "    'startDate': {'month': 5, 'year': 2020}},\n",
       "   'company': {'employeeCountRange': {'start': 11, 'end': 50},\n",
       "    'industries': ['Research']},\n",
       "   'title': 'Software Engineering Intern',\n",
       "   'region': 'urn:li:fs_region:(in,0)',\n",
       "   'companyUrn': 'urn:li:fs_miniCompany:287346',\n",
       "   'companyLogoUrl': 'https://media-exp1.licdn.com/dms/image/C560BAQHo4xY4PbUzhw/company-logo_'},\n",
       "  {'entityUrn': 'urn:li:fs_position:(ACoAACk7H6EBoqdfygSgjoVCmZPc33m3VCMxM-A,1443429046)',\n",
       "   'companyName': 'Shutterbugs DDU',\n",
       "   'timePeriod': {'endDate': {'month': 5, 'year': 2020},\n",
       "    'startDate': {'month': 3, 'year': 2019}},\n",
       "   'company': {'employeeCountRange': {'start': 11, 'end': 50},\n",
       "    'industries': ['Photography']},\n",
       "   'title': 'Commitee Head, Content Writing & Social Media',\n",
       "   'companyUrn': 'urn:li:fs_miniCompany:13687847',\n",
       "   'companyLogoUrl': 'https://media-exp1.licdn.com/dms/image/C510BAQE-3KISRaP56A/company-logo_'},\n",
       "  {'locationName': 'Nadiad',\n",
       "   'entityUrn': 'urn:li:fs_position:(ACoAACk7H6EBoqdfygSgjoVCmZPc33m3VCMxM-A,1486771512)',\n",
       "   'geoLocationName': 'Nadiad',\n",
       "   'companyName': 'HR Digital Marketing',\n",
       "   'timePeriod': {'endDate': {'month': 10, 'year': 2019},\n",
       "    'startDate': {'month': 7, 'year': 2019}},\n",
       "   'company': {'employeeCountRange': {'start': 2, 'end': 10},\n",
       "    'industries': ['Online Media']},\n",
       "   'title': 'Lead Web Developer',\n",
       "   'companyUrn': 'urn:li:fs_miniCompany:14755923',\n",
       "   'companyLogoUrl': 'https://media-exp1.licdn.com/dms/image/C510BAQEP2uvjtNncXA/company-logo_'}],\n",
       " 'skills': [{'name': 'Public Speaking',\n",
       "   'standardizedSkillUrn': 'urn:li:fs_miniSkill:1101',\n",
       "   'standardizedSkill': {'name': 'Public Speaking',\n",
       "    'entityUrn': 'urn:li:fs_miniSkill:1101'}},\n",
       "  {'name': 'Python (Programming Language)'},\n",
       "  {'name': 'Node.js'},\n",
       "  {'name': 'PHP'},\n",
       "  {'name': 'Microsoft Office',\n",
       "   'standardizedSkillUrn': 'urn:li:fs_miniSkill:366',\n",
       "   'standardizedSkill': {'name': 'Microsoft Office',\n",
       "    'entityUrn': 'urn:li:fs_miniSkill:366'}},\n",
       "  {'name': 'WordPress',\n",
       "   'standardizedSkillUrn': 'urn:li:fs_miniSkill:2438',\n",
       "   'standardizedSkill': {'name': 'WordPress',\n",
       "    'entityUrn': 'urn:li:fs_miniSkill:2438'}},\n",
       "  {'name': 'C (Programming Language)',\n",
       "   'standardizedSkillUrn': 'urn:li:fs_miniSkill:438',\n",
       "   'standardizedSkill': {'name': 'C (Programming Language)',\n",
       "    'entityUrn': 'urn:li:fs_miniSkill:438'}},\n",
       "  {'name': 'HTML'},\n",
       "  {'name': 'Cascading Style Sheets (CSS)'},\n",
       "  {'name': 'Bootstrap'},\n",
       "  {'name': 'Django'},\n",
       "  {'name': 'Java'},\n",
       "  {'name': 'Git'},\n",
       "  {'name': 'C++'},\n",
       "  {'name': 'Leadership',\n",
       "   'standardizedSkillUrn': 'urn:li:fs_miniSkill:154',\n",
       "   'standardizedSkill': {'name': 'Leadership',\n",
       "    'entityUrn': 'urn:li:fs_miniSkill:154'}},\n",
       "  {'name': 'Neo4j'},\n",
       "  {'name': 'Graph Databases'}],\n",
       " 'education': [{'entityUrn': 'urn:li:fs_education:(ACoAACk7H6EBoqdfygSgjoVCmZPc33m3VCMxM-A,558090210)',\n",
       "   'school': {'objectUrn': 'urn:li:school:13460',\n",
       "    'entityUrn': 'urn:li:fs_miniSchool:13460',\n",
       "    'active': True,\n",
       "    'schoolName': 'Dharmsinh Desai University',\n",
       "    'trackingId': 'S0me3JT7RCybtQj8cun0nA==',\n",
       "    'logoUrl': 'https://media-exp1.licdn.com/dms/image/C4E0BAQFOem5sfsvzfg/company-logo_'},\n",
       "   'timePeriod': {'endDate': {'year': 2021}, 'startDate': {'year': 2017}},\n",
       "   'fieldOfStudyUrn': 'urn:li:fs_fieldOfStudy:100347',\n",
       "   'degreeName': 'Bachelor of Technology - BTech',\n",
       "   'schoolName': 'Dharmsinh Desai University',\n",
       "   'fieldOfStudy': 'Computer Engineering',\n",
       "   'degreeUrn': 'urn:li:fs_degree:250',\n",
       "   'schoolUrn': 'urn:li:fs_miniSchool:13460'}]}"
      ]
     },
     "execution_count": 34,
     "metadata": {},
     "output_type": "execute_result"
    }
   ],
   "source": [
    "profile"
   ]
  },
  {
   "cell_type": "code",
   "execution_count": null,
   "metadata": {},
   "outputs": [],
   "source": []
  }
 ],
 "metadata": {
  "kernelspec": {
   "display_name": "Python 3",
   "language": "python",
   "name": "python3"
  },
  "language_info": {
   "codemirror_mode": {
    "name": "ipython",
    "version": 3
   },
   "file_extension": ".py",
   "mimetype": "text/x-python",
   "name": "python",
   "nbconvert_exporter": "python",
   "pygments_lexer": "ipython3",
   "version": "3.6.9"
  }
 },
 "nbformat": 4,
 "nbformat_minor": 4
}
